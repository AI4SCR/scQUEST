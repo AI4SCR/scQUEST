{
 "cells": [
  {
   "cell_type": "markdown",
   "id": "ad4d25fa-963d-4dd2-a5cc-587b6f51aab0",
   "metadata": {},
   "source": [
    "# scQUEST Tutorial on AML Patients"
   ]
  },
  {
   "cell_type": "code",
   "execution_count": 1,
   "id": "8194453c-e613-4df5-a78a-b76b64e15175",
   "metadata": {},
   "outputs": [],
   "source": [
    "import scQUEST as scq\n",
    "import anndata\n",
    "import seaborn as sns\n",
    "import matplotlib.pyplot as plt\n",
    "import numpy as np\n",
    "import pandas as pd\n",
    "\n",
    "from pathlib import Path"
   ]
  },
  {
   "cell_type": "code",
   "execution_count": 2,
   "id": "ab142be2-08d8-4a59-8986-fa76aacba2c3",
   "metadata": {},
   "outputs": [
    {
     "data": {
      "text/plain": [
       "AnnData object with n_obs × n_vars = 96381 × 39\n",
       "    obs: 'celltype', 'complexcelltype', 'patient', 'ncells'\n",
       "    var: 'channel', 'marker', 'usedformanualannotation', 'usedforPhenoGraphclustering'\n",
       "    uns: 'fcs_header'"
      ]
     },
     "execution_count": 2,
     "metadata": {},
     "output_type": "execute_result"
    }
   ],
   "source": [
    "fpath = Path(\n",
    "    \"/Users/art/Downloads/Datasets/Levine_CyTOF_AML_AnnotatedCellTypes/ad_annotated_cell_types.h5ad\"\n",
    ")\n",
    "assert fpath.is_file()\n",
    "ad_anno = anndata.read_h5ad(fpath)\n",
    "ad_anno"
   ]
  },
  {
   "cell_type": "code",
   "execution_count": 3,
   "id": "57a7b9f2-496f-4973-a408-967e18a82080",
   "metadata": {},
   "outputs": [
    {
     "data": {
      "text/plain": [
       "AnnData object with n_obs × n_vars = 873106 × 43\n",
       "    obs: 'patient', 'tissue', 'ncells'\n",
       "    var: 'channel', 'marker', 'usedforPhenoGraphclustering'\n",
       "    uns: 'fcs_header'"
      ]
     },
     "execution_count": 3,
     "metadata": {},
     "output_type": "execute_result"
    }
   ],
   "source": [
    "fpath = Path(\n",
    "    \"/Users/art/Downloads/Datasets/Levine_CyTOF_AML_Healthy_vs_AML/ad_healty_aml.h5ad\"\n",
    ")\n",
    "assert fpath.is_file()\n",
    "ad_pat = anndata.read_h5ad(fpath)\n",
    "ad_pat"
   ]
  },
  {
   "cell_type": "code",
   "execution_count": 4,
   "id": "f67eca12-3b31-4658-b07b-257a70106ef0",
   "metadata": {},
   "outputs": [],
   "source": [
    "ad_anno.var.usedforPhenoGraphclustering = ad_anno.var.usedforPhenoGraphclustering.map(\n",
    "    lambda x: x == \"yes\"\n",
    ")\n",
    "ad_anno.var.usedformanualannotation = ad_anno.var.usedformanualannotation.map(\n",
    "    lambda x: x == \"yes\"\n",
    ")\n",
    "\n",
    "ad_pat.var.usedforPhenoGraphclustering = ad_pat.var.usedforPhenoGraphclustering.map(\n",
    "    lambda x: x == \"yes\"\n",
    ")"
   ]
  },
  {
   "cell_type": "markdown",
   "id": "7b4e45b5-78cf-4c0e-9941-de72b6df659f",
   "metadata": {},
   "source": [
    "## Normalise counts"
   ]
  },
  {
   "cell_type": "code",
   "execution_count": 5,
   "id": "e0ae3121-3658-408f-87a6-15678fd23f6d",
   "metadata": {},
   "outputs": [
    {
     "data": {
      "text/plain": [
       "183414"
      ]
     },
     "execution_count": 5,
     "metadata": {},
     "output_type": "execute_result"
    }
   ],
   "source": [
    "(ad_pat.obs.tissue == \"healthy\").sum()"
   ]
  },
  {
   "cell_type": "code",
   "execution_count": 6,
   "id": "2a9f1528-c5f0-4d64-910a-181ac642c89a",
   "metadata": {},
   "outputs": [
    {
     "data": {
      "text/plain": [
       "{'CD117',\n",
       " 'CD11b',\n",
       " 'CD123',\n",
       " 'CD15',\n",
       " 'CD19',\n",
       " 'CD3',\n",
       " 'CD33',\n",
       " 'CD34',\n",
       " 'CD38',\n",
       " 'CD41',\n",
       " 'CD44',\n",
       " 'CD45',\n",
       " 'CD47',\n",
       " 'CD64',\n",
       " 'CD7',\n",
       " 'Cell_length',\n",
       " 'DNA1',\n",
       " 'DNA2',\n",
       " 'Time',\n",
       " 'Viability'}"
      ]
     },
     "execution_count": 6,
     "metadata": {},
     "output_type": "execute_result"
    }
   ],
   "source": [
    "markers = set(ad_pat.var.marker).intersection(set(ad_anno.var.marker))\n",
    "markers"
   ]
  },
  {
   "cell_type": "code",
   "execution_count": 84,
   "id": "a977ab56-929f-450c-a828-a75a63066069",
   "metadata": {},
   "outputs": [],
   "source": [
    "# normalisation according to paper\n",
    "\n",
    "# TODO subset to markers that intersect\n",
    "\n",
    "# ad_pat.layers['paper_norm'] = ad_pat.X.copy()\n",
    "# ad_anno.layers['paper_norm'] = ad_anno.X.copy()\n",
    "\n",
    "# ad = ad_pat[ad_pat.obs.tissue == 'healthy']\n",
    "# thres = np.quantile(ad.X, .995, axis=0)\n",
    "# for i, b in enumerate(ad.var.usedforPhenoGraphclustering):\n",
    "#     if b:\n",
    "#         ad_pat.layers['paper_norm'][:, i] = ad_pat.X[:, i] / thres[i]\n",
    "#         ad_anno.layers['paper_norm'][:, i] = ad_anno.X[:, i] / thres[i]"
   ]
  },
  {
   "cell_type": "code",
   "execution_count": 85,
   "id": "cef9d570-c106-4ade-abea-20311301fbfc",
   "metadata": {},
   "outputs": [],
   "source": [
    "ad = ad_pat[ad_pat.obs.tissue == \"healthy\"]"
   ]
  },
  {
   "cell_type": "code",
   "execution_count": 92,
   "id": "4104f89c-0105-47c6-b8fb-5e1521bdfc16",
   "metadata": {},
   "outputs": [
    {
     "data": {
      "text/plain": [
       "(96381, 39)"
      ]
     },
     "execution_count": 92,
     "metadata": {},
     "output_type": "execute_result"
    }
   ],
   "source": [
    "ad = ad_anno\n",
    "ad.shape"
   ]
  },
  {
   "cell_type": "code",
   "execution_count": 93,
   "id": "8f083629-6c1e-4618-b68e-07c516c50082",
   "metadata": {},
   "outputs": [],
   "source": [
    "X = ad.X.copy()\n",
    "cofactor = 5\n",
    "np.divide(X, cofactor, out=X)\n",
    "np.arcsinh(X, out=X)\n",
    "\n",
    "# add transformed data to a separate layer in the annData object\n",
    "ad.layers[\"arcsinh\"] = X"
   ]
  },
  {
   "cell_type": "code",
   "execution_count": 94,
   "id": "63594d10-fe77-4204-9d68-d953dd380b19",
   "metadata": {},
   "outputs": [],
   "source": [
    "markers = [\"CD\" + str(i) for i in [34, 38, 117, 123, 33, 47, 45, 15, 7, 19, 64, 3]]\n",
    "markers = markers[:3] + [\"HLA-DR\"] + markers[3:]\n",
    "sad = ad[:, ad.var.marker.isin(markers)]"
   ]
  },
  {
   "cell_type": "code",
   "execution_count": 112,
   "id": "1ee92551-90f2-4773-9a53-0ea2682142ca",
   "metadata": {},
   "outputs": [],
   "source": [
    "from sklearn.preprocessing import MinMaxScaler\n",
    "\n",
    "minmax = MinMaxScaler()"
   ]
  },
  {
   "cell_type": "code",
   "execution_count": 117,
   "id": "388df0f4-753d-4626-97a7-52e13b50998b",
   "metadata": {},
   "outputs": [],
   "source": [
    "X = sad.X\n",
    "minmax.fit(X)\n",
    "minmax.data_max_ = np.quantile(X, 0.995, axis=0)\n",
    "X = minmax.transform(X)\n",
    "\n",
    "X = pd.DataFrame(X, columns=sad.var.marker, index=sad.obs.celltype)\n",
    "X = X.groupby(\"celltype\").agg(\"mean\")\n",
    "X = X[markers]\n",
    "Xmean = X.copy()"
   ]
  },
  {
   "cell_type": "code",
   "execution_count": 118,
   "id": "1b79e899-079a-496c-ab4e-38579c6042ba",
   "metadata": {},
   "outputs": [],
   "source": [
    "X = sad.layers[\"arcsinh\"]\n",
    "minmax.fit(X)\n",
    "minmax.data_max_ = np.quantile(X, 0.995, axis=0)\n",
    "X = minmax.transform(X)\n",
    "\n",
    "X = pd.DataFrame(X, columns=sad.var.marker, index=sad.obs.celltype)\n",
    "X = X.groupby(\"celltype\").agg(\"mean\")\n",
    "X = X[markers]\n",
    "XarcsinhMean = X.copy()"
   ]
  },
  {
   "cell_type": "code",
   "execution_count": 119,
   "id": "d1fc27b8-6aa4-4c0c-b02c-a95bd4d81ec5",
   "metadata": {},
   "outputs": [
    {
     "data": {
      "image/png": "[encoded data removed]",
      "text/plain": [
       "<Figure size 864x432 with 4 Axes>"
      ]
     },
     "metadata": {
      "needs_background": "light"
     },
     "output_type": "display_data"
    }
   ],
   "source": [
    "fig, axs = plt.subplots(1, 2, figsize=(12, 6))\n",
    "ax = sns.heatmap(Xmean.T, ax=axs[0])\n",
    "ax = sns.heatmap(XarcsinhMean.T, ax=axs[1])\n",
    "for ax, title in zip(axs, [\"mean\", \"arcsinh + mean\"]):\n",
    "    ax.set_title(title)\n",
    "fig.tight_layout()"
   ]
  },
  {
   "cell_type": "code",
   "execution_count": 104,
   "id": "4c15bd74-2023-4703-abf2-86e103ac3d80",
   "metadata": {},
   "outputs": [
    {
     "data": {
      "text/html": [
       "<div>\n",
       "<style scoped>\n",
       "    .dataframe tbody tr th:only-of-type {\n",
       "        vertical-align: middle;\n",
       "    }\n",
       "\n",
       "    .dataframe tbody tr th {\n",
       "        vertical-align: top;\n",
       "    }\n",
       "\n",
       "    .dataframe thead th {\n",
       "        text-align: right;\n",
       "    }\n",
       "</style>\n",
       "<table border=\"1\" class=\"dataframe\">\n",
       "  <thead>\n",
       "    <tr style=\"text-align: right;\">\n",
       "      <th>marker</th>\n",
       "      <th>CD34</th>\n",
       "      <th>CD38</th>\n",
       "      <th>CD117</th>\n",
       "      <th>HLA-DR</th>\n",
       "      <th>CD123</th>\n",
       "      <th>CD33</th>\n",
       "      <th>CD47</th>\n",
       "      <th>CD45</th>\n",
       "      <th>CD15</th>\n",
       "      <th>CD7</th>\n",
       "      <th>CD19</th>\n",
       "      <th>CD64</th>\n",
       "      <th>CD3</th>\n",
       "    </tr>\n",
       "    <tr>\n",
       "      <th>celltype</th>\n",
       "      <th></th>\n",
       "      <th></th>\n",
       "      <th></th>\n",
       "      <th></th>\n",
       "      <th></th>\n",
       "      <th></th>\n",
       "      <th></th>\n",
       "      <th></th>\n",
       "      <th></th>\n",
       "      <th></th>\n",
       "      <th></th>\n",
       "      <th></th>\n",
       "      <th></th>\n",
       "    </tr>\n",
       "  </thead>\n",
       "  <tbody>\n",
       "    <tr>\n",
       "      <th>Bcells</th>\n",
       "      <td>0.327711</td>\n",
       "      <td>0.989814</td>\n",
       "      <td>0.022242</td>\n",
       "      <td>3.379473</td>\n",
       "      <td>0.151868</td>\n",
       "      <td>0.107430</td>\n",
       "      <td>2.416411</td>\n",
       "      <td>5.595470</td>\n",
       "      <td>0.226154</td>\n",
       "      <td>0.036623</td>\n",
       "      <td>2.238480</td>\n",
       "      <td>0.193583</td>\n",
       "      <td>0.231779</td>\n",
       "    </tr>\n",
       "    <tr>\n",
       "      <th>CD4Tcells</th>\n",
       "      <td>0.144730</td>\n",
       "      <td>0.690508</td>\n",
       "      <td>0.174041</td>\n",
       "      <td>0.091958</td>\n",
       "      <td>0.100873</td>\n",
       "      <td>0.059274</td>\n",
       "      <td>3.043263</td>\n",
       "      <td>5.825321</td>\n",
       "      <td>0.191651</td>\n",
       "      <td>1.184455</td>\n",
       "      <td>0.084487</td>\n",
       "      <td>0.078564</td>\n",
       "      <td>4.814879</td>\n",
       "    </tr>\n",
       "    <tr>\n",
       "      <th>CD8Tcells</th>\n",
       "      <td>0.185324</td>\n",
       "      <td>0.506332</td>\n",
       "      <td>0.158922</td>\n",
       "      <td>0.103649</td>\n",
       "      <td>0.098512</td>\n",
       "      <td>0.052214</td>\n",
       "      <td>2.191668</td>\n",
       "      <td>5.908257</td>\n",
       "      <td>0.181987</td>\n",
       "      <td>1.364193</td>\n",
       "      <td>0.132012</td>\n",
       "      <td>0.070522</td>\n",
       "      <td>4.583318</td>\n",
       "    </tr>\n",
       "    <tr>\n",
       "      <th>Monocytes</th>\n",
       "      <td>0.181088</td>\n",
       "      <td>1.931249</td>\n",
       "      <td>0.023007</td>\n",
       "      <td>2.402068</td>\n",
       "      <td>0.544306</td>\n",
       "      <td>1.022279</td>\n",
       "      <td>2.329208</td>\n",
       "      <td>5.310382</td>\n",
       "      <td>0.241843</td>\n",
       "      <td>0.040609</td>\n",
       "      <td>0.110949</td>\n",
       "      <td>2.154088</td>\n",
       "      <td>0.255818</td>\n",
       "    </tr>\n",
       "    <tr>\n",
       "      <th>NKcells</th>\n",
       "      <td>0.153311</td>\n",
       "      <td>1.731991</td>\n",
       "      <td>0.018252</td>\n",
       "      <td>0.109850</td>\n",
       "      <td>0.107161</td>\n",
       "      <td>0.056925</td>\n",
       "      <td>2.692873</td>\n",
       "      <td>5.760594</td>\n",
       "      <td>0.201567</td>\n",
       "      <td>3.751568</td>\n",
       "      <td>0.096506</td>\n",
       "      <td>0.091871</td>\n",
       "      <td>0.206737</td>\n",
       "    </tr>\n",
       "    <tr>\n",
       "      <th>PreBcells</th>\n",
       "      <td>0.197860</td>\n",
       "      <td>4.721648</td>\n",
       "      <td>0.011721</td>\n",
       "      <td>3.472800</td>\n",
       "      <td>0.406044</td>\n",
       "      <td>0.180743</td>\n",
       "      <td>3.473438</td>\n",
       "      <td>4.605569</td>\n",
       "      <td>0.180232</td>\n",
       "      <td>0.036190</td>\n",
       "      <td>1.933198</td>\n",
       "      <td>0.100331</td>\n",
       "      <td>0.128360</td>\n",
       "    </tr>\n",
       "  </tbody>\n",
       "</table>\n",
       "</div>"
      ],
      "text/plain": [
       "marker         CD34      CD38     CD117    HLA-DR     CD123      CD33  \\\n",
       "celltype                                                                \n",
       "Bcells     0.327711  0.989814  0.022242  3.379473  0.151868  0.107430   \n",
       "CD4Tcells  0.144730  0.690508  0.174041  0.091958  0.100873  0.059274   \n",
       "CD8Tcells  0.185324  0.506332  0.158922  0.103649  0.098512  0.052214   \n",
       "Monocytes  0.181088  1.931249  0.023007  2.402068  0.544306  1.022279   \n",
       "NKcells    0.153311  1.731991  0.018252  0.109850  0.107161  0.056925   \n",
       "PreBcells  0.197860  4.721648  0.011721  3.472800  0.406044  0.180743   \n",
       "\n",
       "marker         CD47      CD45      CD15       CD7      CD19      CD64  \\\n",
       "celltype                                                                \n",
       "Bcells     2.416411  5.595470  0.226154  0.036623  2.238480  0.193583   \n",
       "CD4Tcells  3.043263  5.825321  0.191651  1.184455  0.084487  0.078564   \n",
       "CD8Tcells  2.191668  5.908257  0.181987  1.364193  0.132012  0.070522   \n",
       "Monocytes  2.329208  5.310382  0.241843  0.040609  0.110949  2.154088   \n",
       "NKcells    2.692873  5.760594  0.201567  3.751568  0.096506  0.091871   \n",
       "PreBcells  3.473438  4.605569  0.180232  0.036190  1.933198  0.100331   \n",
       "\n",
       "marker          CD3  \n",
       "celltype             \n",
       "Bcells     0.231779  \n",
       "CD4Tcells  4.814879  \n",
       "CD8Tcells  4.583318  \n",
       "Monocytes  0.255818  \n",
       "NKcells    0.206737  \n",
       "PreBcells  0.128360  "
      ]
     },
     "execution_count": 104,
     "metadata": {},
     "output_type": "execute_result"
    }
   ],
   "source": [
    "X = sad.layers[\"arcsinh\"]\n",
    "X = pd.DataFrame(X, columns=sad.var.marker, index=sad.obs.celltype)\n",
    "X = X.groupby(\"celltype\").agg(\"mean\")\n",
    "X = X[markers]\n",
    "X"
   ]
  },
  {
   "cell_type": "code",
   "execution_count": 105,
   "id": "ff2c0d39-58e5-458f-b809-1aac15f41dd0",
   "metadata": {},
   "outputs": [
    {
     "data": {
      "image/png": "[encoded data removed]",
      "text/plain": [
       "<Figure size 432x288 with 2 Axes>"
      ]
     },
     "metadata": {
      "needs_background": "light"
     },
     "output_type": "display_data"
    }
   ],
   "source": [
    "fig, ax = plt.subplots()\n",
    "ax = sns.heatmap(X.T, ax=ax)"
   ]
  },
  {
   "cell_type": "code",
   "execution_count": null,
   "id": "5ec40d01-225d-4e87-bb80-41faef2a890d",
   "metadata": {},
   "outputs": [],
   "source": []
  }
 ],
 "metadata": {
  "kernelspec": {
   "display_name": "Python 3 (ipykernel)",
   "language": "python",
   "name": "python3"
  },
  "language_info": {
   "codemirror_mode": {
    "name": "ipython",
    "version": 3
   },
   "file_extension": ".py",
   "mimetype": "text/x-python",
   "name": "python",
   "nbconvert_exporter": "python",
   "pygments_lexer": "ipython3",
   "version": "3.8.12"
  }
 },
 "nbformat": 4,
 "nbformat_minor": 5
}
